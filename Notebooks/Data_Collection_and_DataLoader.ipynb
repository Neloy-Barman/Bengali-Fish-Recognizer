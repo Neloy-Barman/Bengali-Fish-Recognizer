{
  "nbformat": 4,
  "nbformat_minor": 0,
  "metadata": {
    "colab": {
      "provenance": []
    },
    "kernelspec": {
      "name": "python3",
      "display_name": "Python 3"
    },
    "language_info": {
      "name": "python"
    }
  },
  "cells": [
    {
      "cell_type": "markdown",
      "source": [
        "## **Installing necessary packages**"
      ],
      "metadata": {
        "id": "UjHv5rxqTEuH"
      }
    },
    {
      "cell_type": "code",
      "source": [
        "!pip install -Uqq fastai fastbook nbdev"
      ],
      "metadata": {
        "id": "yLhonjt0z70V"
      },
      "execution_count": null,
      "outputs": []
    },
    {
      "cell_type": "markdown",
      "source": [
        "## **Using required imports and magic functions**"
      ],
      "metadata": {
        "id": "Jey6KWsSTJY_"
      }
    },
    {
      "cell_type": "code",
      "source": [
        "import warnings\n",
        "from fastai import *\n",
        "import seaborn as sns\n",
        "from fastbook import *\n",
        "from fastai.vision.all import *\n",
        "import matplotlib.pyplot as plt\n",
        "sns.set_theme(style='darkgrid')\n",
        "warnings.filterwarnings('ignore')\n",
        "\n",
        "%reload_ext autoreload\n",
        "%autoreload 2\n",
        "%matplotlib inline"
      ],
      "metadata": {
        "id": "NOTGS9cA0Ciz"
      },
      "execution_count": null,
      "outputs": []
    },
    {
      "cell_type": "markdown",
      "source": [
        "## **Maping bengali names to the scientific names**"
      ],
      "metadata": {
        "id": "LyDohh3zTQz3"
      }
    },
    {
      "cell_type": "code",
      "execution_count": null,
      "metadata": {
        "id": "4Z0lH4KXwLc-"
      },
      "outputs": [],
      "source": [
        "bengali_fishes = {\n",
        "    \"Ayre\": \"Sperata aor\",\n",
        "    \"Catla\": \"Catla catla\",\n",
        "    \"Chital\":\"Chitala chitala\",\n",
        "    \"Ilish\": \"Tenualosa ilisha\",\n",
        "    \"Koi\": \"Cyprinus rubrofuscus\",\n",
        "    \"Kachki\": \"Corica soborna Hamilo\",\n",
        "    \"Kajoli\": \"Ailia coila\",\n",
        "    \"Magur\": \"Clarias batrachus\",\n",
        "    \"Mrigal\": \"Cirrhinus cirrhosus\",\n",
        "    \"Mola Dhela\": \"Osteobrama cotio\",\n",
        "    \"Pabda\": \"Ompok bimaculatus\",\n",
        "    \"Pangash\": \"Pangasius pangasius\",\n",
        "    \"Poa\": \"Otolithoides pama\",\n",
        "    \"Puti\": \"Puntius sophore\",\n",
        "    \"Rui\": \"Labeo rohita\",\n",
        "    \"Shing\": \"Heteropneustes fossilis\",\n",
        "    \"Silver Carp\": \"Hypophthalmichthys molitrix\",\n",
        "    \"Taki\": \"Channa striata\",\n",
        "    \"Tengra\": \"Mystus tengara\",\n",
        "    \"Telapia\": \"Oreochromis niloticus\",\n",
        "}"
      ]
    },
    {
      "cell_type": "markdown",
      "source": [
        "## **Mounting Drive**"
      ],
      "metadata": {
        "id": "7hdwfe8VTXq3"
      }
    },
    {
      "cell_type": "code",
      "source": [
        "from google.colab import drive\n",
        "drive.mount('/content/drive')"
      ],
      "metadata": {
        "colab": {
          "base_uri": "https://localhost:8080/"
        },
        "id": "4FtvQJQl0qnW",
        "outputId": "68c2638c-ef4e-460a-9abd-720509bcf991"
      },
      "execution_count": null,
      "outputs": [
        {
          "output_type": "stream",
          "name": "stdout",
          "text": [
            "Mounted at /content/drive\n"
          ]
        }
      ]
    },
    {
      "cell_type": "markdown",
      "source": [
        "## **Intializing project folder path**"
      ],
      "metadata": {
        "id": "wC4zumaMTcBu"
      }
    },
    {
      "cell_type": "code",
      "source": [
        "%cd /content/drive/MyDrive/Bengali Fish Recognizer"
      ],
      "metadata": {
        "colab": {
          "base_uri": "https://localhost:8080/"
        },
        "id": "svGYsJv40slM",
        "outputId": "6bb015aa-7817-4eca-c56a-56bc39f5fe41"
      },
      "execution_count": null,
      "outputs": [
        {
          "output_type": "stream",
          "name": "stdout",
          "text": [
            "/content/drive/MyDrive/Bengali Fish Recognizer\n"
          ]
        }
      ]
    },
    {
      "cell_type": "markdown",
      "source": [
        "## **Function to initialize or create a required directory**"
      ],
      "metadata": {
        "id": "TS4IjkNTTjJe"
      }
    },
    {
      "cell_type": "code",
      "source": [
        "def folder_initialize(folder_path_name):\n",
        "  if not os.path.exists(folder_path_name):\n",
        "    os.mkdir(folder_path_name)"
      ],
      "metadata": {
        "id": "EN-FxLqRzyTt"
      },
      "execution_count": null,
      "outputs": []
    },
    {
      "cell_type": "markdown",
      "source": [
        "## **Creation of `Data` path**"
      ],
      "metadata": {
        "id": "l98qkaJFTr0G"
      }
    },
    {
      "cell_type": "code",
      "source": [
        "data_path = \"Data\"\n",
        "folder_initialize(data_path)"
      ],
      "metadata": {
        "id": "tAQEMOgW2bCr"
      },
      "execution_count": null,
      "outputs": []
    },
    {
      "cell_type": "markdown",
      "source": [
        "## **Collection of Image Data**"
      ],
      "metadata": {
        "id": "pkErpsUBTxNX"
      }
    },
    {
      "cell_type": "code",
      "source": [
        "for key in bengali_fishes.keys():\n",
        "  dest = f'{data_path}/{key}'\n",
        "  folder_initialize(dest)\n",
        "  try:\n",
        "    image_urls = search_images_ddg(f\"{bengali_fishes[key]}\", max_images=10)\n",
        "    download_images(dest, urls=image_urls)\n",
        "  except:\n",
        "    continue"
      ],
      "metadata": {
        "id": "Genp0eTV0LMU"
      },
      "execution_count": null,
      "outputs": []
    },
    {
      "cell_type": "markdown",
      "source": [
        "## **Grabbing image files**"
      ],
      "metadata": {
        "id": "Kqk0zx7hT9TN"
      }
    },
    {
      "cell_type": "code",
      "source": [
        "image_files = get_image_files(data_path)"
      ],
      "metadata": {
        "id": "qPE43Ezz4T8h"
      },
      "execution_count": null,
      "outputs": []
    },
    {
      "cell_type": "markdown",
      "source": [
        "## **Checking if the images can be opened or not**"
      ],
      "metadata": {
        "id": "fvw_eYQ7UBvW"
      }
    },
    {
      "cell_type": "code",
      "source": [
        "failed = verify_images(image_files)\n",
        "failed"
      ],
      "metadata": {
        "colab": {
          "base_uri": "https://localhost:8080/"
        },
        "id": "mmVq2LgNzyWr",
        "outputId": "d9c2315e-02c3-43aa-ef9f-eef467a4ab2f"
      },
      "execution_count": null,
      "outputs": [
        {
          "output_type": "execute_result",
          "data": {
            "text/plain": [
              "(#0) []"
            ]
          },
          "metadata": {},
          "execution_count": 19
        }
      ]
    },
    {
      "cell_type": "markdown",
      "source": [
        "## **Deletion of unavailable image paths**"
      ],
      "metadata": {
        "id": "0KTc5fKmULJM"
      }
    },
    {
      "cell_type": "code",
      "source": [
        "failed.map(Path.unlink)"
      ],
      "metadata": {
        "colab": {
          "base_uri": "https://localhost:8080/"
        },
        "id": "hFp6r_n8zyZb",
        "outputId": "da5700c7-cc04-4c49-d30d-15139e5c45e8"
      },
      "execution_count": null,
      "outputs": [
        {
          "output_type": "execute_result",
          "data": {
            "text/plain": [
              "(#0) []"
            ]
          },
          "metadata": {},
          "execution_count": 20
        }
      ]
    },
    {
      "cell_type": "markdown",
      "source": [
        "## **Categories in `Data` directory**"
      ],
      "metadata": {
        "id": "8Sz-QetTV3Ve"
      }
    },
    {
      "cell_type": "code",
      "source": [
        "labels = []\n",
        "for label in os.listdir(data_path):\n",
        "  labels.append(label)"
      ],
      "metadata": {
        "id": "-TL6ll4BVMVt"
      },
      "execution_count": null,
      "outputs": []
    },
    {
      "cell_type": "markdown",
      "source": [
        "## **Mapping category wise images numbers**"
      ],
      "metadata": {
        "id": "CTpng_IiWHBN"
      }
    },
    {
      "cell_type": "code",
      "source": [
        "data = {}\n",
        "for label in labels:\n",
        "  count = len([entry for entry in os.listdir(f\"{data_path}/{label}\") if os.path.isfile(os.path.join(f\"{data_path}/{label}\", entry))])\n",
        "  data[label] = count"
      ],
      "metadata": {
        "id": "s2bUbXwAVMRm"
      },
      "execution_count": null,
      "outputs": []
    },
    {
      "cell_type": "markdown",
      "source": [
        "## **Function to show images distribution**"
      ],
      "metadata": {
        "id": "Y-polpXsVmHP"
      }
    },
    {
      "cell_type": "code",
      "source": [
        "def plot_images_distribution(dictionary):\n",
        "  labels = dictionary.keys()\n",
        "  number_of_images = dictionary.values()\n",
        "\n",
        "  plt.bar(labels, number_of_images)\n",
        "  plt.xlabel(\"Labels\")\n",
        "  plt.ylabel(\"Number of images\")\n",
        "  plt.title(\"Image distribution\")\n",
        "  plt.show()"
      ],
      "metadata": {
        "id": "tzvmTEDZVMN1"
      },
      "execution_count": null,
      "outputs": []
    },
    {
      "cell_type": "markdown",
      "source": [
        "## **Viewing Image Distribution for each label**"
      ],
      "metadata": {
        "id": "28lNO-LfVMKl"
      }
    },
    {
      "cell_type": "code",
      "source": [
        "plot_images_distribution(data)"
      ],
      "metadata": {
        "id": "4q0jABMbVMHW"
      },
      "execution_count": null,
      "outputs": []
    },
    {
      "cell_type": "markdown",
      "source": [
        "## **Initialization of Data Loader**"
      ],
      "metadata": {
        "id": "8myymPaNUOGT"
      }
    },
    {
      "cell_type": "code",
      "source": [
        "data_block = DataBlock(\n",
        "    blocks = (ImageBlock, CategoryBlock),\n",
        "    splitter = RandomSplitter(valid_pct=0.2, seed = 42),\n",
        "    get_items = get_image_files,\n",
        "    get_y = parent_label,\n",
        "    item_tfms=Resize(224),\n",
        "    batch_tfms = aug_transforms()\n",
        ")"
      ],
      "metadata": {
        "id": "NbU_uIv5zycr"
      },
      "execution_count": null,
      "outputs": []
    },
    {
      "cell_type": "markdown",
      "source": [
        "## **Initialization of Data Loader Path**"
      ],
      "metadata": {
        "id": "ba_pN9dVUUQD"
      }
    },
    {
      "cell_type": "code",
      "source": [
        "data_loader_path = 'DataLoaders'\n",
        "folder_initialize(data_loader_path)"
      ],
      "metadata": {
        "id": "QqYUO-mkKjSq"
      },
      "execution_count": null,
      "outputs": []
    },
    {
      "cell_type": "markdown",
      "source": [
        "## **Declaration of Batch Size**"
      ],
      "metadata": {
        "id": "7nLQafOiUZhn"
      }
    },
    {
      "cell_type": "code",
      "source": [
        "batch_size = 32"
      ],
      "metadata": {
        "id": "VFoG5AAkK9r6"
      },
      "execution_count": null,
      "outputs": []
    },
    {
      "cell_type": "markdown",
      "source": [
        "## **Creation of Data Loader**"
      ],
      "metadata": {
        "id": "uBY1GwzsUeDv"
      }
    },
    {
      "cell_type": "code",
      "source": [
        "data_loader = data_block.dataloaders(data_path, bs=batch_size)"
      ],
      "metadata": {
        "id": "R4nI0i0zKgnK"
      },
      "execution_count": null,
      "outputs": []
    },
    {
      "cell_type": "markdown",
      "source": [
        "## **Initialization of Data Loader version & Storing the dataloader**"
      ],
      "metadata": {
        "id": "68LOr6WPUike"
      }
    },
    {
      "cell_type": "code",
      "source": [
        "version = 1\n",
        "torch.save(data_loader, f\"{data_loader_path}/DataLoader_v_{version}\")"
      ],
      "metadata": {
        "id": "UmbYdrK4LP_K"
      },
      "execution_count": null,
      "outputs": []
    }
  ]
}